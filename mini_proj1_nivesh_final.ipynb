{
  "nbformat": 4,
  "nbformat_minor": 0,
  "metadata": {
    "colab": {
      "name": "mini_proj1_nivesh.ipynb",
      "provenance": [],
      "collapsed_sections": []
    },
    "kernelspec": {
      "name": "python3",
      "display_name": "Python 3"
    },
    "language_info": {
      "name": "python"
    }
  },
  "cells": [
    {
      "cell_type": "markdown",
      "source": [
        "## **Exploratory Data Analysis of Medical Appointments Data**\n",
        "![download.jfif](data:image/jpeg;base64,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)"
      ],
      "metadata": {
        "id": "Sft0MJUHB1l4"
      }
    },
    {
      "cell_type": "markdown",
      "source": [
        "**Today we will be working with the Medical Appointment No-Show dataset that contains information about the patients’ appointments**"
      ],
      "metadata": {
        "id": "VCZgJcM_ChU1"
      }
    },
    {
      "cell_type": "code",
      "execution_count": 2,
      "metadata": {
        "id": "m7hC9BSILtdS"
      },
      "outputs": [],
      "source": [
        "#import all required libraries\n",
        "import numpy as np\n",
        "import pandas as pd\n",
        "import matplotlib.pyplot as plt\n",
        "%matplotlib inline\n",
        "import seaborn as sns"
      ]
    },
    {
      "cell_type": "markdown",
      "source": [
        "\n",
        "**Reading CSV Dataset**\n"
      ],
      "metadata": {
        "id": "CJFc6_fWCuzI"
      }
    },
    {
      "cell_type": "code",
      "source": [
        "df = pd.read_csv('/content/drive/MyDrive/Colab Notebooks/KaggleV2-May-2016.csv')"
      ],
      "metadata": {
        "id": "tJgViZxoMx-2"
      },
      "execution_count": 3,
      "outputs": []
    },
    {
      "cell_type": "markdown",
      "source": [
        "**Before cleaning the data, let’s check the data types of each column**"
      ],
      "metadata": {
        "id": "1TYbKQu0DL_J"
      }
    },
    {
      "cell_type": "code",
      "source": [
        "df.info()"
      ],
      "metadata": {
        "colab": {
          "base_uri": "https://localhost:8080/"
        },
        "id": "1hWc3MGiO14V",
        "outputId": "383d40ff-7000-429e-a905-12b91f064a6b"
      },
      "execution_count": 4,
      "outputs": [
        {
          "output_type": "stream",
          "name": "stdout",
          "text": [
            "<class 'pandas.core.frame.DataFrame'>\n",
            "RangeIndex: 110527 entries, 0 to 110526\n",
            "Data columns (total 14 columns):\n",
            " #   Column          Non-Null Count   Dtype  \n",
            "---  ------          --------------   -----  \n",
            " 0   PatientId       110527 non-null  float64\n",
            " 1   AppointmentID   110527 non-null  int64  \n",
            " 2   Gender          110527 non-null  object \n",
            " 3   ScheduledDay    110527 non-null  object \n",
            " 4   AppointmentDay  110527 non-null  object \n",
            " 5   Age             110527 non-null  int64  \n",
            " 6   Neighbourhood   110527 non-null  object \n",
            " 7   Scholarship     110527 non-null  int64  \n",
            " 8   Hipertension    110527 non-null  int64  \n",
            " 9   Diabetes        110527 non-null  int64  \n",
            " 10  Alcoholism      110527 non-null  int64  \n",
            " 11  Handcap         110527 non-null  int64  \n",
            " 12  SMS_received    110527 non-null  int64  \n",
            " 13  No-show         110527 non-null  object \n",
            "dtypes: float64(1), int64(8), object(5)\n",
            "memory usage: 11.8+ MB\n"
          ]
        }
      ]
    },
    {
      "cell_type": "markdown",
      "source": [
        "**Changing the data type of date fields using parse_dates parameter of read_csv method**"
      ],
      "metadata": {
        "id": "GIEh5VxYDd3p"
      }
    },
    {
      "cell_type": "code",
      "source": [
        "df = pd.read_csv('/content/drive/MyDrive/Colab Notebooks/KaggleV2-May-2016.csv', parse_dates=['ScheduledDay', 'AppointmentDay'])"
      ],
      "metadata": {
        "id": "6ncVS03xQU0J"
      },
      "execution_count": 5,
      "outputs": []
    },
    {
      "cell_type": "markdown",
      "source": [
        "**Dropping fields PatientID and AppointmentID as they are not required for Analysis**"
      ],
      "metadata": {
        "id": "XJ1AKZB1D0UC"
      }
    },
    {
      "cell_type": "code",
      "source": [
        "df.drop(['PatientId', 'AppointmentID'], axis=1, inplace=True)"
      ],
      "metadata": {
        "id": "f25LQ2u1OpRK"
      },
      "execution_count": 6,
      "outputs": []
    },
    {
      "cell_type": "markdown",
      "source": [
        "**Check the column names and data type to re-confirm**"
      ],
      "metadata": {
        "id": "3VLagXFSECOE"
      }
    },
    {
      "cell_type": "code",
      "source": [
        "df.info()"
      ],
      "metadata": {
        "colab": {
          "base_uri": "https://localhost:8080/"
        },
        "id": "v0eVnK5RQkXo",
        "outputId": "c954b856-a9d2-445c-a380-21360c62cd1f"
      },
      "execution_count": 7,
      "outputs": [
        {
          "output_type": "stream",
          "name": "stdout",
          "text": [
            "<class 'pandas.core.frame.DataFrame'>\n",
            "RangeIndex: 110527 entries, 0 to 110526\n",
            "Data columns (total 12 columns):\n",
            " #   Column          Non-Null Count   Dtype              \n",
            "---  ------          --------------   -----              \n",
            " 0   Gender          110527 non-null  object             \n",
            " 1   ScheduledDay    110527 non-null  datetime64[ns, UTC]\n",
            " 2   AppointmentDay  110527 non-null  datetime64[ns, UTC]\n",
            " 3   Age             110527 non-null  int64              \n",
            " 4   Neighbourhood   110527 non-null  object             \n",
            " 5   Scholarship     110527 non-null  int64              \n",
            " 6   Hipertension    110527 non-null  int64              \n",
            " 7   Diabetes        110527 non-null  int64              \n",
            " 8   Alcoholism      110527 non-null  int64              \n",
            " 9   Handcap         110527 non-null  int64              \n",
            " 10  SMS_received    110527 non-null  int64              \n",
            " 11  No-show         110527 non-null  object             \n",
            "dtypes: datetime64[ns, UTC](2), int64(7), object(3)\n",
            "memory usage: 10.1+ MB\n"
          ]
        }
      ]
    },
    {
      "cell_type": "markdown",
      "source": [
        "**Use head() method to display the first 10 rows of the dataframe**"
      ],
      "metadata": {
        "id": "wh686HY8EKRc"
      }
    },
    {
      "cell_type": "code",
      "source": [
        "df.head(10)"
      ],
      "metadata": {
        "colab": {
          "base_uri": "https://localhost:8080/",
          "height": 598
        },
        "id": "x8k7O2a1O2Db",
        "outputId": "09ba8ce1-fa77-487f-8494-791480da6f7a"
      },
      "execution_count": 8,
      "outputs": [
        {
          "output_type": "execute_result",
          "data": {
            "text/html": [
              "\n",
              "  <div id=\"df-916699e5-94f3-4055-85a8-dd3ab2c99c4d\">\n",
              "    <div class=\"colab-df-container\">\n",
              "      <div>\n",
              "<style scoped>\n",
              "    .dataframe tbody tr th:only-of-type {\n",
              "        vertical-align: middle;\n",
              "    }\n",
              "\n",
              "    .dataframe tbody tr th {\n",
              "        vertical-align: top;\n",
              "    }\n",
              "\n",
              "    .dataframe thead th {\n",
              "        text-align: right;\n",
              "    }\n",
              "</style>\n",
              "<table border=\"1\" class=\"dataframe\">\n",
              "  <thead>\n",
              "    <tr style=\"text-align: right;\">\n",
              "      <th></th>\n",
              "      <th>Gender</th>\n",
              "      <th>ScheduledDay</th>\n",
              "      <th>AppointmentDay</th>\n",
              "      <th>Age</th>\n",
              "      <th>Neighbourhood</th>\n",
              "      <th>Scholarship</th>\n",
              "      <th>Hipertension</th>\n",
              "      <th>Diabetes</th>\n",
              "      <th>Alcoholism</th>\n",
              "      <th>Handcap</th>\n",
              "      <th>SMS_received</th>\n",
              "      <th>No-show</th>\n",
              "    </tr>\n",
              "  </thead>\n",
              "  <tbody>\n",
              "    <tr>\n",
              "      <th>0</th>\n",
              "      <td>F</td>\n",
              "      <td>2016-04-29 18:38:08+00:00</td>\n",
              "      <td>2016-04-29 00:00:00+00:00</td>\n",
              "      <td>62</td>\n",
              "      <td>JARDIM DA PENHA</td>\n",
              "      <td>0</td>\n",
              "      <td>1</td>\n",
              "      <td>0</td>\n",
              "      <td>0</td>\n",
              "      <td>0</td>\n",
              "      <td>0</td>\n",
              "      <td>No</td>\n",
              "    </tr>\n",
              "    <tr>\n",
              "      <th>1</th>\n",
              "      <td>M</td>\n",
              "      <td>2016-04-29 16:08:27+00:00</td>\n",
              "      <td>2016-04-29 00:00:00+00:00</td>\n",
              "      <td>56</td>\n",
              "      <td>JARDIM DA PENHA</td>\n",
              "      <td>0</td>\n",
              "      <td>0</td>\n",
              "      <td>0</td>\n",
              "      <td>0</td>\n",
              "      <td>0</td>\n",
              "      <td>0</td>\n",
              "      <td>No</td>\n",
              "    </tr>\n",
              "    <tr>\n",
              "      <th>2</th>\n",
              "      <td>F</td>\n",
              "      <td>2016-04-29 16:19:04+00:00</td>\n",
              "      <td>2016-04-29 00:00:00+00:00</td>\n",
              "      <td>62</td>\n",
              "      <td>MATA DA PRAIA</td>\n",
              "      <td>0</td>\n",
              "      <td>0</td>\n",
              "      <td>0</td>\n",
              "      <td>0</td>\n",
              "      <td>0</td>\n",
              "      <td>0</td>\n",
              "      <td>No</td>\n",
              "    </tr>\n",
              "    <tr>\n",
              "      <th>3</th>\n",
              "      <td>F</td>\n",
              "      <td>2016-04-29 17:29:31+00:00</td>\n",
              "      <td>2016-04-29 00:00:00+00:00</td>\n",
              "      <td>8</td>\n",
              "      <td>PONTAL DE CAMBURI</td>\n",
              "      <td>0</td>\n",
              "      <td>0</td>\n",
              "      <td>0</td>\n",
              "      <td>0</td>\n",
              "      <td>0</td>\n",
              "      <td>0</td>\n",
              "      <td>No</td>\n",
              "    </tr>\n",
              "    <tr>\n",
              "      <th>4</th>\n",
              "      <td>F</td>\n",
              "      <td>2016-04-29 16:07:23+00:00</td>\n",
              "      <td>2016-04-29 00:00:00+00:00</td>\n",
              "      <td>56</td>\n",
              "      <td>JARDIM DA PENHA</td>\n",
              "      <td>0</td>\n",
              "      <td>1</td>\n",
              "      <td>1</td>\n",
              "      <td>0</td>\n",
              "      <td>0</td>\n",
              "      <td>0</td>\n",
              "      <td>No</td>\n",
              "    </tr>\n",
              "    <tr>\n",
              "      <th>5</th>\n",
              "      <td>F</td>\n",
              "      <td>2016-04-27 08:36:51+00:00</td>\n",
              "      <td>2016-04-29 00:00:00+00:00</td>\n",
              "      <td>76</td>\n",
              "      <td>REPÚBLICA</td>\n",
              "      <td>0</td>\n",
              "      <td>1</td>\n",
              "      <td>0</td>\n",
              "      <td>0</td>\n",
              "      <td>0</td>\n",
              "      <td>0</td>\n",
              "      <td>No</td>\n",
              "    </tr>\n",
              "    <tr>\n",
              "      <th>6</th>\n",
              "      <td>F</td>\n",
              "      <td>2016-04-27 15:05:12+00:00</td>\n",
              "      <td>2016-04-29 00:00:00+00:00</td>\n",
              "      <td>23</td>\n",
              "      <td>GOIABEIRAS</td>\n",
              "      <td>0</td>\n",
              "      <td>0</td>\n",
              "      <td>0</td>\n",
              "      <td>0</td>\n",
              "      <td>0</td>\n",
              "      <td>0</td>\n",
              "      <td>Yes</td>\n",
              "    </tr>\n",
              "    <tr>\n",
              "      <th>7</th>\n",
              "      <td>F</td>\n",
              "      <td>2016-04-27 15:39:58+00:00</td>\n",
              "      <td>2016-04-29 00:00:00+00:00</td>\n",
              "      <td>39</td>\n",
              "      <td>GOIABEIRAS</td>\n",
              "      <td>0</td>\n",
              "      <td>0</td>\n",
              "      <td>0</td>\n",
              "      <td>0</td>\n",
              "      <td>0</td>\n",
              "      <td>0</td>\n",
              "      <td>Yes</td>\n",
              "    </tr>\n",
              "    <tr>\n",
              "      <th>8</th>\n",
              "      <td>F</td>\n",
              "      <td>2016-04-29 08:02:16+00:00</td>\n",
              "      <td>2016-04-29 00:00:00+00:00</td>\n",
              "      <td>21</td>\n",
              "      <td>ANDORINHAS</td>\n",
              "      <td>0</td>\n",
              "      <td>0</td>\n",
              "      <td>0</td>\n",
              "      <td>0</td>\n",
              "      <td>0</td>\n",
              "      <td>0</td>\n",
              "      <td>No</td>\n",
              "    </tr>\n",
              "    <tr>\n",
              "      <th>9</th>\n",
              "      <td>F</td>\n",
              "      <td>2016-04-27 12:48:25+00:00</td>\n",
              "      <td>2016-04-29 00:00:00+00:00</td>\n",
              "      <td>19</td>\n",
              "      <td>CONQUISTA</td>\n",
              "      <td>0</td>\n",
              "      <td>0</td>\n",
              "      <td>0</td>\n",
              "      <td>0</td>\n",
              "      <td>0</td>\n",
              "      <td>0</td>\n",
              "      <td>No</td>\n",
              "    </tr>\n",
              "  </tbody>\n",
              "</table>\n",
              "</div>\n",
              "      <button class=\"colab-df-convert\" onclick=\"convertToInteractive('df-916699e5-94f3-4055-85a8-dd3ab2c99c4d')\"\n",
              "              title=\"Convert this dataframe to an interactive table.\"\n",
              "              style=\"display:none;\">\n",
              "        \n",
              "  <svg xmlns=\"http://www.w3.org/2000/svg\" height=\"24px\"viewBox=\"0 0 24 24\"\n",
              "       width=\"24px\">\n",
              "    <path d=\"M0 0h24v24H0V0z\" fill=\"none\"/>\n",
              "    <path d=\"M18.56 5.44l.94 2.06.94-2.06 2.06-.94-2.06-.94-.94-2.06-.94 2.06-2.06.94zm-11 1L8.5 8.5l.94-2.06 2.06-.94-2.06-.94L8.5 2.5l-.94 2.06-2.06.94zm10 10l.94 2.06.94-2.06 2.06-.94-2.06-.94-.94-2.06-.94 2.06-2.06.94z\"/><path d=\"M17.41 7.96l-1.37-1.37c-.4-.4-.92-.59-1.43-.59-.52 0-1.04.2-1.43.59L10.3 9.45l-7.72 7.72c-.78.78-.78 2.05 0 2.83L4 21.41c.39.39.9.59 1.41.59.51 0 1.02-.2 1.41-.59l7.78-7.78 2.81-2.81c.8-.78.8-2.07 0-2.86zM5.41 20L4 18.59l7.72-7.72 1.47 1.35L5.41 20z\"/>\n",
              "  </svg>\n",
              "      </button>\n",
              "      \n",
              "  <style>\n",
              "    .colab-df-container {\n",
              "      display:flex;\n",
              "      flex-wrap:wrap;\n",
              "      gap: 12px;\n",
              "    }\n",
              "\n",
              "    .colab-df-convert {\n",
              "      background-color: #E8F0FE;\n",
              "      border: none;\n",
              "      border-radius: 50%;\n",
              "      cursor: pointer;\n",
              "      display: none;\n",
              "      fill: #1967D2;\n",
              "      height: 32px;\n",
              "      padding: 0 0 0 0;\n",
              "      width: 32px;\n",
              "    }\n",
              "\n",
              "    .colab-df-convert:hover {\n",
              "      background-color: #E2EBFA;\n",
              "      box-shadow: 0px 1px 2px rgba(60, 64, 67, 0.3), 0px 1px 3px 1px rgba(60, 64, 67, 0.15);\n",
              "      fill: #174EA6;\n",
              "    }\n",
              "\n",
              "    [theme=dark] .colab-df-convert {\n",
              "      background-color: #3B4455;\n",
              "      fill: #D2E3FC;\n",
              "    }\n",
              "\n",
              "    [theme=dark] .colab-df-convert:hover {\n",
              "      background-color: #434B5C;\n",
              "      box-shadow: 0px 1px 3px 1px rgba(0, 0, 0, 0.15);\n",
              "      filter: drop-shadow(0px 1px 2px rgba(0, 0, 0, 0.3));\n",
              "      fill: #FFFFFF;\n",
              "    }\n",
              "  </style>\n",
              "\n",
              "      <script>\n",
              "        const buttonEl =\n",
              "          document.querySelector('#df-916699e5-94f3-4055-85a8-dd3ab2c99c4d button.colab-df-convert');\n",
              "        buttonEl.style.display =\n",
              "          google.colab.kernel.accessAllowed ? 'block' : 'none';\n",
              "\n",
              "        async function convertToInteractive(key) {\n",
              "          const element = document.querySelector('#df-916699e5-94f3-4055-85a8-dd3ab2c99c4d');\n",
              "          const dataTable =\n",
              "            await google.colab.kernel.invokeFunction('convertToInteractive',\n",
              "                                                     [key], {});\n",
              "          if (!dataTable) return;\n",
              "\n",
              "          const docLinkHtml = 'Like what you see? Visit the ' +\n",
              "            '<a target=\"_blank\" href=https://colab.research.google.com/notebooks/data_table.ipynb>data table notebook</a>'\n",
              "            + ' to learn more about interactive tables.';\n",
              "          element.innerHTML = '';\n",
              "          dataTable['output_type'] = 'display_data';\n",
              "          await google.colab.output.renderOutput(dataTable, element);\n",
              "          const docLink = document.createElement('div');\n",
              "          docLink.innerHTML = docLinkHtml;\n",
              "          element.appendChild(docLink);\n",
              "        }\n",
              "      </script>\n",
              "    </div>\n",
              "  </div>\n",
              "  "
            ],
            "text/plain": [
              "  Gender              ScheduledDay            AppointmentDay  Age  \\\n",
              "0      F 2016-04-29 18:38:08+00:00 2016-04-29 00:00:00+00:00   62   \n",
              "1      M 2016-04-29 16:08:27+00:00 2016-04-29 00:00:00+00:00   56   \n",
              "2      F 2016-04-29 16:19:04+00:00 2016-04-29 00:00:00+00:00   62   \n",
              "3      F 2016-04-29 17:29:31+00:00 2016-04-29 00:00:00+00:00    8   \n",
              "4      F 2016-04-29 16:07:23+00:00 2016-04-29 00:00:00+00:00   56   \n",
              "5      F 2016-04-27 08:36:51+00:00 2016-04-29 00:00:00+00:00   76   \n",
              "6      F 2016-04-27 15:05:12+00:00 2016-04-29 00:00:00+00:00   23   \n",
              "7      F 2016-04-27 15:39:58+00:00 2016-04-29 00:00:00+00:00   39   \n",
              "8      F 2016-04-29 08:02:16+00:00 2016-04-29 00:00:00+00:00   21   \n",
              "9      F 2016-04-27 12:48:25+00:00 2016-04-29 00:00:00+00:00   19   \n",
              "\n",
              "       Neighbourhood  Scholarship  Hipertension  Diabetes  Alcoholism  \\\n",
              "0    JARDIM DA PENHA            0             1         0           0   \n",
              "1    JARDIM DA PENHA            0             0         0           0   \n",
              "2      MATA DA PRAIA            0             0         0           0   \n",
              "3  PONTAL DE CAMBURI            0             0         0           0   \n",
              "4    JARDIM DA PENHA            0             1         1           0   \n",
              "5          REPÚBLICA            0             1         0           0   \n",
              "6         GOIABEIRAS            0             0         0           0   \n",
              "7         GOIABEIRAS            0             0         0           0   \n",
              "8         ANDORINHAS            0             0         0           0   \n",
              "9          CONQUISTA            0             0         0           0   \n",
              "\n",
              "   Handcap  SMS_received No-show  \n",
              "0        0             0      No  \n",
              "1        0             0      No  \n",
              "2        0             0      No  \n",
              "3        0             0      No  \n",
              "4        0             0      No  \n",
              "5        0             0      No  \n",
              "6        0             0     Yes  \n",
              "7        0             0     Yes  \n",
              "8        0             0      No  \n",
              "9        0             0      No  "
            ]
          },
          "metadata": {},
          "execution_count": 8
        }
      ]
    },
    {
      "cell_type": "markdown",
      "source": [
        "**Check number of Samples and Features using .shape attribute**"
      ],
      "metadata": {
        "id": "Fw8fenzIETK9"
      }
    },
    {
      "cell_type": "code",
      "source": [
        "print(\"Number of patients: \", df.shape[0])\n",
        "print(\"Number of data points(columns): \", df.shape[1])"
      ],
      "metadata": {
        "colab": {
          "base_uri": "https://localhost:8080/"
        },
        "id": "D47M9xelO2L8",
        "outputId": "52d26056-9368-41e9-9c63-4e54874270fc"
      },
      "execution_count": 9,
      "outputs": [
        {
          "output_type": "stream",
          "name": "stdout",
          "text": [
            "Number of patients:  110527\n",
            "Number of data points(columns):  12\n"
          ]
        }
      ]
    },
    {
      "cell_type": "markdown",
      "source": [
        "## **Cleaning/Preparing Data for Analysis**"
      ],
      "metadata": {
        "id": "ej2M9BstEmnl"
      }
    },
    {
      "cell_type": "markdown",
      "source": [
        "**Let's rename misspelled column names**"
      ],
      "metadata": {
        "id": "dOTZuQq8ExrC"
      }
    },
    {
      "cell_type": "code",
      "source": [
        "df = df.rename(columns={'Hipertension': 'Hypertension', 'Handcap': 'Handicap', 'SMS_received': 'SMSReceived'})\n"
      ],
      "metadata": {
        "id": "iFaBhReQO2R4"
      },
      "execution_count": 10,
      "outputs": []
    },
    {
      "cell_type": "markdown",
      "source": [
        "**Rename “No-show” column to “Presence” and its values to ‘Present’ and ‘Absent’**"
      ],
      "metadata": {
        "id": "yWx-ZVJ_FFkH"
      }
    },
    {
      "cell_type": "code",
      "source": [
        "df['Presence'] = df['No-show'].apply(lambda x: 'Present' if x == \"No\" else 'Absent')"
      ],
      "metadata": {
        "id": "1yHi8CXkSAdv"
      },
      "execution_count": 11,
      "outputs": []
    },
    {
      "cell_type": "markdown",
      "source": [
        "**If an appointment day comes before the scheduled day, then we need to swap their values**"
      ],
      "metadata": {
        "id": "qY49HLb8FNhf"
      }
    },
    {
      "cell_type": "code",
      "source": [
        "df['AppointmentDay']= np.where((df['AppointmentDay']- df['ScheduledDay']).dt.days < 0, df['ScheduledDay'], df['AppointmentDay'])\n"
      ],
      "metadata": {
        "id": "QLDARm3laVYo"
      },
      "execution_count": 12,
      "outputs": []
    },
    {
      "cell_type": "markdown",
      "source": [
        "**Calculate Wait Time for each patient**"
      ],
      "metadata": {
        "id": "30IJOcX7Fnyu"
      }
    },
    {
      "cell_type": "code",
      "source": [
        "df['Wait Time'] = df['AppointmentDay'] - df['ScheduledDay']\n",
        "df['Wait Time'] =df['Wait Time'].dt.days\n"
      ],
      "metadata": {
        "id": "aPYzognIS8zx"
      },
      "execution_count": 13,
      "outputs": []
    },
    {
      "cell_type": "markdown",
      "source": [
        "**Calculate Weekday of appointments**"
      ],
      "metadata": {
        "id": "Ue2_1j4qFwdl"
      }
    },
    {
      "cell_type": "code",
      "source": [
        "df['WeekDay'] = df['AppointmentDay'].apply(lambda x: x.weekday())\n",
        "replace_map = {'WeekDay': {0: 'Monday', 1: 'Tuesday', 2: 'Wednesday', 3: 'Thursday', 4: 'Friday', 5: 'Saturday'}}\n",
        "df.replace(replace_map, inplace=True)"
      ],
      "metadata": {
        "id": "rKYYzbRhix3q"
      },
      "execution_count": 14,
      "outputs": []
    },
    {
      "cell_type": "markdown",
      "source": [
        "**Profile the data using head() method**"
      ],
      "metadata": {
        "id": "Dk_x_n1vF4RX"
      }
    },
    {
      "cell_type": "code",
      "source": [
        "df.head()"
      ],
      "metadata": {
        "colab": {
          "base_uri": "https://localhost:8080/",
          "height": 374
        },
        "id": "rrCKO10yWukl",
        "outputId": "b843870b-2e9b-4eb1-96d5-fccf7841d0b9"
      },
      "execution_count": 15,
      "outputs": [
        {
          "output_type": "execute_result",
          "data": {
            "text/html": [
              "\n",
              "  <div id=\"df-3c55b51a-1522-4d9f-b931-e254c06ffc89\">\n",
              "    <div class=\"colab-df-container\">\n",
              "      <div>\n",
              "<style scoped>\n",
              "    .dataframe tbody tr th:only-of-type {\n",
              "        vertical-align: middle;\n",
              "    }\n",
              "\n",
              "    .dataframe tbody tr th {\n",
              "        vertical-align: top;\n",
              "    }\n",
              "\n",
              "    .dataframe thead th {\n",
              "        text-align: right;\n",
              "    }\n",
              "</style>\n",
              "<table border=\"1\" class=\"dataframe\">\n",
              "  <thead>\n",
              "    <tr style=\"text-align: right;\">\n",
              "      <th></th>\n",
              "      <th>Gender</th>\n",
              "      <th>ScheduledDay</th>\n",
              "      <th>AppointmentDay</th>\n",
              "      <th>Age</th>\n",
              "      <th>Neighbourhood</th>\n",
              "      <th>Scholarship</th>\n",
              "      <th>Hypertension</th>\n",
              "      <th>Diabetes</th>\n",
              "      <th>Alcoholism</th>\n",
              "      <th>Handicap</th>\n",
              "      <th>SMSReceived</th>\n",
              "      <th>No-show</th>\n",
              "      <th>Presence</th>\n",
              "      <th>Wait Time</th>\n",
              "      <th>WeekDay</th>\n",
              "    </tr>\n",
              "  </thead>\n",
              "  <tbody>\n",
              "    <tr>\n",
              "      <th>0</th>\n",
              "      <td>F</td>\n",
              "      <td>2016-04-29 18:38:08+00:00</td>\n",
              "      <td>2016-04-29 18:38:08+00:00</td>\n",
              "      <td>62</td>\n",
              "      <td>JARDIM DA PENHA</td>\n",
              "      <td>0</td>\n",
              "      <td>1</td>\n",
              "      <td>0</td>\n",
              "      <td>0</td>\n",
              "      <td>0</td>\n",
              "      <td>0</td>\n",
              "      <td>No</td>\n",
              "      <td>Present</td>\n",
              "      <td>0</td>\n",
              "      <td>Friday</td>\n",
              "    </tr>\n",
              "    <tr>\n",
              "      <th>1</th>\n",
              "      <td>M</td>\n",
              "      <td>2016-04-29 16:08:27+00:00</td>\n",
              "      <td>2016-04-29 16:08:27+00:00</td>\n",
              "      <td>56</td>\n",
              "      <td>JARDIM DA PENHA</td>\n",
              "      <td>0</td>\n",
              "      <td>0</td>\n",
              "      <td>0</td>\n",
              "      <td>0</td>\n",
              "      <td>0</td>\n",
              "      <td>0</td>\n",
              "      <td>No</td>\n",
              "      <td>Present</td>\n",
              "      <td>0</td>\n",
              "      <td>Friday</td>\n",
              "    </tr>\n",
              "    <tr>\n",
              "      <th>2</th>\n",
              "      <td>F</td>\n",
              "      <td>2016-04-29 16:19:04+00:00</td>\n",
              "      <td>2016-04-29 16:19:04+00:00</td>\n",
              "      <td>62</td>\n",
              "      <td>MATA DA PRAIA</td>\n",
              "      <td>0</td>\n",
              "      <td>0</td>\n",
              "      <td>0</td>\n",
              "      <td>0</td>\n",
              "      <td>0</td>\n",
              "      <td>0</td>\n",
              "      <td>No</td>\n",
              "      <td>Present</td>\n",
              "      <td>0</td>\n",
              "      <td>Friday</td>\n",
              "    </tr>\n",
              "    <tr>\n",
              "      <th>3</th>\n",
              "      <td>F</td>\n",
              "      <td>2016-04-29 17:29:31+00:00</td>\n",
              "      <td>2016-04-29 17:29:31+00:00</td>\n",
              "      <td>8</td>\n",
              "      <td>PONTAL DE CAMBURI</td>\n",
              "      <td>0</td>\n",
              "      <td>0</td>\n",
              "      <td>0</td>\n",
              "      <td>0</td>\n",
              "      <td>0</td>\n",
              "      <td>0</td>\n",
              "      <td>No</td>\n",
              "      <td>Present</td>\n",
              "      <td>0</td>\n",
              "      <td>Friday</td>\n",
              "    </tr>\n",
              "    <tr>\n",
              "      <th>4</th>\n",
              "      <td>F</td>\n",
              "      <td>2016-04-29 16:07:23+00:00</td>\n",
              "      <td>2016-04-29 16:07:23+00:00</td>\n",
              "      <td>56</td>\n",
              "      <td>JARDIM DA PENHA</td>\n",
              "      <td>0</td>\n",
              "      <td>1</td>\n",
              "      <td>1</td>\n",
              "      <td>0</td>\n",
              "      <td>0</td>\n",
              "      <td>0</td>\n",
              "      <td>No</td>\n",
              "      <td>Present</td>\n",
              "      <td>0</td>\n",
              "      <td>Friday</td>\n",
              "    </tr>\n",
              "  </tbody>\n",
              "</table>\n",
              "</div>\n",
              "      <button class=\"colab-df-convert\" onclick=\"convertToInteractive('df-3c55b51a-1522-4d9f-b931-e254c06ffc89')\"\n",
              "              title=\"Convert this dataframe to an interactive table.\"\n",
              "              style=\"display:none;\">\n",
              "        \n",
              "  <svg xmlns=\"http://www.w3.org/2000/svg\" height=\"24px\"viewBox=\"0 0 24 24\"\n",
              "       width=\"24px\">\n",
              "    <path d=\"M0 0h24v24H0V0z\" fill=\"none\"/>\n",
              "    <path d=\"M18.56 5.44l.94 2.06.94-2.06 2.06-.94-2.06-.94-.94-2.06-.94 2.06-2.06.94zm-11 1L8.5 8.5l.94-2.06 2.06-.94-2.06-.94L8.5 2.5l-.94 2.06-2.06.94zm10 10l.94 2.06.94-2.06 2.06-.94-2.06-.94-.94-2.06-.94 2.06-2.06.94z\"/><path d=\"M17.41 7.96l-1.37-1.37c-.4-.4-.92-.59-1.43-.59-.52 0-1.04.2-1.43.59L10.3 9.45l-7.72 7.72c-.78.78-.78 2.05 0 2.83L4 21.41c.39.39.9.59 1.41.59.51 0 1.02-.2 1.41-.59l7.78-7.78 2.81-2.81c.8-.78.8-2.07 0-2.86zM5.41 20L4 18.59l7.72-7.72 1.47 1.35L5.41 20z\"/>\n",
              "  </svg>\n",
              "      </button>\n",
              "      \n",
              "  <style>\n",
              "    .colab-df-container {\n",
              "      display:flex;\n",
              "      flex-wrap:wrap;\n",
              "      gap: 12px;\n",
              "    }\n",
              "\n",
              "    .colab-df-convert {\n",
              "      background-color: #E8F0FE;\n",
              "      border: none;\n",
              "      border-radius: 50%;\n",
              "      cursor: pointer;\n",
              "      display: none;\n",
              "      fill: #1967D2;\n",
              "      height: 32px;\n",
              "      padding: 0 0 0 0;\n",
              "      width: 32px;\n",
              "    }\n",
              "\n",
              "    .colab-df-convert:hover {\n",
              "      background-color: #E2EBFA;\n",
              "      box-shadow: 0px 1px 2px rgba(60, 64, 67, 0.3), 0px 1px 3px 1px rgba(60, 64, 67, 0.15);\n",
              "      fill: #174EA6;\n",
              "    }\n",
              "\n",
              "    [theme=dark] .colab-df-convert {\n",
              "      background-color: #3B4455;\n",
              "      fill: #D2E3FC;\n",
              "    }\n",
              "\n",
              "    [theme=dark] .colab-df-convert:hover {\n",
              "      background-color: #434B5C;\n",
              "      box-shadow: 0px 1px 3px 1px rgba(0, 0, 0, 0.15);\n",
              "      filter: drop-shadow(0px 1px 2px rgba(0, 0, 0, 0.3));\n",
              "      fill: #FFFFFF;\n",
              "    }\n",
              "  </style>\n",
              "\n",
              "      <script>\n",
              "        const buttonEl =\n",
              "          document.querySelector('#df-3c55b51a-1522-4d9f-b931-e254c06ffc89 button.colab-df-convert');\n",
              "        buttonEl.style.display =\n",
              "          google.colab.kernel.accessAllowed ? 'block' : 'none';\n",
              "\n",
              "        async function convertToInteractive(key) {\n",
              "          const element = document.querySelector('#df-3c55b51a-1522-4d9f-b931-e254c06ffc89');\n",
              "          const dataTable =\n",
              "            await google.colab.kernel.invokeFunction('convertToInteractive',\n",
              "                                                     [key], {});\n",
              "          if (!dataTable) return;\n",
              "\n",
              "          const docLinkHtml = 'Like what you see? Visit the ' +\n",
              "            '<a target=\"_blank\" href=https://colab.research.google.com/notebooks/data_table.ipynb>data table notebook</a>'\n",
              "            + ' to learn more about interactive tables.';\n",
              "          element.innerHTML = '';\n",
              "          dataTable['output_type'] = 'display_data';\n",
              "          await google.colab.output.renderOutput(dataTable, element);\n",
              "          const docLink = document.createElement('div');\n",
              "          docLink.innerHTML = docLinkHtml;\n",
              "          element.appendChild(docLink);\n",
              "        }\n",
              "      </script>\n",
              "    </div>\n",
              "  </div>\n",
              "  "
            ],
            "text/plain": [
              "  Gender              ScheduledDay            AppointmentDay  Age  \\\n",
              "0      F 2016-04-29 18:38:08+00:00 2016-04-29 18:38:08+00:00   62   \n",
              "1      M 2016-04-29 16:08:27+00:00 2016-04-29 16:08:27+00:00   56   \n",
              "2      F 2016-04-29 16:19:04+00:00 2016-04-29 16:19:04+00:00   62   \n",
              "3      F 2016-04-29 17:29:31+00:00 2016-04-29 17:29:31+00:00    8   \n",
              "4      F 2016-04-29 16:07:23+00:00 2016-04-29 16:07:23+00:00   56   \n",
              "\n",
              "       Neighbourhood  Scholarship  Hypertension  Diabetes  Alcoholism  \\\n",
              "0    JARDIM DA PENHA            0             1         0           0   \n",
              "1    JARDIM DA PENHA            0             0         0           0   \n",
              "2      MATA DA PRAIA            0             0         0           0   \n",
              "3  PONTAL DE CAMBURI            0             0         0           0   \n",
              "4    JARDIM DA PENHA            0             1         1           0   \n",
              "\n",
              "   Handicap  SMSReceived No-show Presence  Wait Time WeekDay  \n",
              "0         0            0      No  Present          0  Friday  \n",
              "1         0            0      No  Present          0  Friday  \n",
              "2         0            0      No  Present          0  Friday  \n",
              "3         0            0      No  Present          0  Friday  \n",
              "4         0            0      No  Present          0  Friday  "
            ]
          },
          "metadata": {},
          "execution_count": 15
        }
      ]
    },
    {
      "cell_type": "markdown",
      "source": [
        "**Check for Null values**"
      ],
      "metadata": {
        "id": "89riltL7GF7A"
      }
    },
    {
      "cell_type": "code",
      "source": [
        "df.isnull().sum()"
      ],
      "metadata": {
        "colab": {
          "base_uri": "https://localhost:8080/"
        },
        "id": "IsGHxstebXea",
        "outputId": "9e4e9455-9c84-4609-bf07-180c2a7d7576"
      },
      "execution_count": 16,
      "outputs": [
        {
          "output_type": "execute_result",
          "data": {
            "text/plain": [
              "Gender            0\n",
              "ScheduledDay      0\n",
              "AppointmentDay    0\n",
              "Age               0\n",
              "Neighbourhood     0\n",
              "Scholarship       0\n",
              "Hypertension      0\n",
              "Diabetes          0\n",
              "Alcoholism        0\n",
              "Handicap          0\n",
              "SMSReceived       0\n",
              "No-show           0\n",
              "Presence          0\n",
              "Wait Time         0\n",
              "WeekDay           0\n",
              "dtype: int64"
            ]
          },
          "metadata": {},
          "execution_count": 16
        }
      ]
    },
    {
      "cell_type": "markdown",
      "source": [
        "**Statistics of numerical data**"
      ],
      "metadata": {
        "id": "6-aSCJOdGPR5"
      }
    },
    {
      "cell_type": "code",
      "source": [
        "df.describe()"
      ],
      "metadata": {
        "colab": {
          "base_uri": "https://localhost:8080/",
          "height": 300
        },
        "id": "aTuhr_M9bmor",
        "outputId": "13f60d5f-f34e-4ffb-dccd-ccb4e3f04925"
      },
      "execution_count": 17,
      "outputs": [
        {
          "output_type": "execute_result",
          "data": {
            "text/html": [
              "\n",
              "  <div id=\"df-60b2cb39-82b0-4164-9647-f3c7e717de09\">\n",
              "    <div class=\"colab-df-container\">\n",
              "      <div>\n",
              "<style scoped>\n",
              "    .dataframe tbody tr th:only-of-type {\n",
              "        vertical-align: middle;\n",
              "    }\n",
              "\n",
              "    .dataframe tbody tr th {\n",
              "        vertical-align: top;\n",
              "    }\n",
              "\n",
              "    .dataframe thead th {\n",
              "        text-align: right;\n",
              "    }\n",
              "</style>\n",
              "<table border=\"1\" class=\"dataframe\">\n",
              "  <thead>\n",
              "    <tr style=\"text-align: right;\">\n",
              "      <th></th>\n",
              "      <th>Age</th>\n",
              "      <th>Scholarship</th>\n",
              "      <th>Hypertension</th>\n",
              "      <th>Diabetes</th>\n",
              "      <th>Alcoholism</th>\n",
              "      <th>Handicap</th>\n",
              "      <th>SMSReceived</th>\n",
              "      <th>Wait Time</th>\n",
              "    </tr>\n",
              "  </thead>\n",
              "  <tbody>\n",
              "    <tr>\n",
              "      <th>count</th>\n",
              "      <td>110527.000000</td>\n",
              "      <td>110527.000000</td>\n",
              "      <td>110527.000000</td>\n",
              "      <td>110527.000000</td>\n",
              "      <td>110527.000000</td>\n",
              "      <td>110527.000000</td>\n",
              "      <td>110527.000000</td>\n",
              "      <td>110527.000000</td>\n",
              "    </tr>\n",
              "    <tr>\n",
              "      <th>mean</th>\n",
              "      <td>37.088874</td>\n",
              "      <td>0.098266</td>\n",
              "      <td>0.197246</td>\n",
              "      <td>0.071865</td>\n",
              "      <td>0.030400</td>\n",
              "      <td>0.022248</td>\n",
              "      <td>0.321026</td>\n",
              "      <td>9.532739</td>\n",
              "    </tr>\n",
              "    <tr>\n",
              "      <th>std</th>\n",
              "      <td>23.110205</td>\n",
              "      <td>0.297675</td>\n",
              "      <td>0.397921</td>\n",
              "      <td>0.258265</td>\n",
              "      <td>0.171686</td>\n",
              "      <td>0.161543</td>\n",
              "      <td>0.466873</td>\n",
              "      <td>15.027729</td>\n",
              "    </tr>\n",
              "    <tr>\n",
              "      <th>min</th>\n",
              "      <td>-1.000000</td>\n",
              "      <td>0.000000</td>\n",
              "      <td>0.000000</td>\n",
              "      <td>0.000000</td>\n",
              "      <td>0.000000</td>\n",
              "      <td>0.000000</td>\n",
              "      <td>0.000000</td>\n",
              "      <td>0.000000</td>\n",
              "    </tr>\n",
              "    <tr>\n",
              "      <th>25%</th>\n",
              "      <td>18.000000</td>\n",
              "      <td>0.000000</td>\n",
              "      <td>0.000000</td>\n",
              "      <td>0.000000</td>\n",
              "      <td>0.000000</td>\n",
              "      <td>0.000000</td>\n",
              "      <td>0.000000</td>\n",
              "      <td>0.000000</td>\n",
              "    </tr>\n",
              "    <tr>\n",
              "      <th>50%</th>\n",
              "      <td>37.000000</td>\n",
              "      <td>0.000000</td>\n",
              "      <td>0.000000</td>\n",
              "      <td>0.000000</td>\n",
              "      <td>0.000000</td>\n",
              "      <td>0.000000</td>\n",
              "      <td>0.000000</td>\n",
              "      <td>3.000000</td>\n",
              "    </tr>\n",
              "    <tr>\n",
              "      <th>75%</th>\n",
              "      <td>55.000000</td>\n",
              "      <td>0.000000</td>\n",
              "      <td>0.000000</td>\n",
              "      <td>0.000000</td>\n",
              "      <td>0.000000</td>\n",
              "      <td>0.000000</td>\n",
              "      <td>1.000000</td>\n",
              "      <td>14.000000</td>\n",
              "    </tr>\n",
              "    <tr>\n",
              "      <th>max</th>\n",
              "      <td>115.000000</td>\n",
              "      <td>1.000000</td>\n",
              "      <td>1.000000</td>\n",
              "      <td>1.000000</td>\n",
              "      <td>1.000000</td>\n",
              "      <td>4.000000</td>\n",
              "      <td>1.000000</td>\n",
              "      <td>178.000000</td>\n",
              "    </tr>\n",
              "  </tbody>\n",
              "</table>\n",
              "</div>\n",
              "      <button class=\"colab-df-convert\" onclick=\"convertToInteractive('df-60b2cb39-82b0-4164-9647-f3c7e717de09')\"\n",
              "              title=\"Convert this dataframe to an interactive table.\"\n",
              "              style=\"display:none;\">\n",
              "        \n",
              "  <svg xmlns=\"http://www.w3.org/2000/svg\" height=\"24px\"viewBox=\"0 0 24 24\"\n",
              "       width=\"24px\">\n",
              "    <path d=\"M0 0h24v24H0V0z\" fill=\"none\"/>\n",
              "    <path d=\"M18.56 5.44l.94 2.06.94-2.06 2.06-.94-2.06-.94-.94-2.06-.94 2.06-2.06.94zm-11 1L8.5 8.5l.94-2.06 2.06-.94-2.06-.94L8.5 2.5l-.94 2.06-2.06.94zm10 10l.94 2.06.94-2.06 2.06-.94-2.06-.94-.94-2.06-.94 2.06-2.06.94z\"/><path d=\"M17.41 7.96l-1.37-1.37c-.4-.4-.92-.59-1.43-.59-.52 0-1.04.2-1.43.59L10.3 9.45l-7.72 7.72c-.78.78-.78 2.05 0 2.83L4 21.41c.39.39.9.59 1.41.59.51 0 1.02-.2 1.41-.59l7.78-7.78 2.81-2.81c.8-.78.8-2.07 0-2.86zM5.41 20L4 18.59l7.72-7.72 1.47 1.35L5.41 20z\"/>\n",
              "  </svg>\n",
              "      </button>\n",
              "      \n",
              "  <style>\n",
              "    .colab-df-container {\n",
              "      display:flex;\n",
              "      flex-wrap:wrap;\n",
              "      gap: 12px;\n",
              "    }\n",
              "\n",
              "    .colab-df-convert {\n",
              "      background-color: #E8F0FE;\n",
              "      border: none;\n",
              "      border-radius: 50%;\n",
              "      cursor: pointer;\n",
              "      display: none;\n",
              "      fill: #1967D2;\n",
              "      height: 32px;\n",
              "      padding: 0 0 0 0;\n",
              "      width: 32px;\n",
              "    }\n",
              "\n",
              "    .colab-df-convert:hover {\n",
              "      background-color: #E2EBFA;\n",
              "      box-shadow: 0px 1px 2px rgba(60, 64, 67, 0.3), 0px 1px 3px 1px rgba(60, 64, 67, 0.15);\n",
              "      fill: #174EA6;\n",
              "    }\n",
              "\n",
              "    [theme=dark] .colab-df-convert {\n",
              "      background-color: #3B4455;\n",
              "      fill: #D2E3FC;\n",
              "    }\n",
              "\n",
              "    [theme=dark] .colab-df-convert:hover {\n",
              "      background-color: #434B5C;\n",
              "      box-shadow: 0px 1px 3px 1px rgba(0, 0, 0, 0.15);\n",
              "      filter: drop-shadow(0px 1px 2px rgba(0, 0, 0, 0.3));\n",
              "      fill: #FFFFFF;\n",
              "    }\n",
              "  </style>\n",
              "\n",
              "      <script>\n",
              "        const buttonEl =\n",
              "          document.querySelector('#df-60b2cb39-82b0-4164-9647-f3c7e717de09 button.colab-df-convert');\n",
              "        buttonEl.style.display =\n",
              "          google.colab.kernel.accessAllowed ? 'block' : 'none';\n",
              "\n",
              "        async function convertToInteractive(key) {\n",
              "          const element = document.querySelector('#df-60b2cb39-82b0-4164-9647-f3c7e717de09');\n",
              "          const dataTable =\n",
              "            await google.colab.kernel.invokeFunction('convertToInteractive',\n",
              "                                                     [key], {});\n",
              "          if (!dataTable) return;\n",
              "\n",
              "          const docLinkHtml = 'Like what you see? Visit the ' +\n",
              "            '<a target=\"_blank\" href=https://colab.research.google.com/notebooks/data_table.ipynb>data table notebook</a>'\n",
              "            + ' to learn more about interactive tables.';\n",
              "          element.innerHTML = '';\n",
              "          dataTable['output_type'] = 'display_data';\n",
              "          await google.colab.output.renderOutput(dataTable, element);\n",
              "          const docLink = document.createElement('div');\n",
              "          docLink.innerHTML = docLinkHtml;\n",
              "          element.appendChild(docLink);\n",
              "        }\n",
              "      </script>\n",
              "    </div>\n",
              "  </div>\n",
              "  "
            ],
            "text/plain": [
              "                 Age    Scholarship   Hypertension       Diabetes  \\\n",
              "count  110527.000000  110527.000000  110527.000000  110527.000000   \n",
              "mean       37.088874       0.098266       0.197246       0.071865   \n",
              "std        23.110205       0.297675       0.397921       0.258265   \n",
              "min        -1.000000       0.000000       0.000000       0.000000   \n",
              "25%        18.000000       0.000000       0.000000       0.000000   \n",
              "50%        37.000000       0.000000       0.000000       0.000000   \n",
              "75%        55.000000       0.000000       0.000000       0.000000   \n",
              "max       115.000000       1.000000       1.000000       1.000000   \n",
              "\n",
              "          Alcoholism       Handicap    SMSReceived      Wait Time  \n",
              "count  110527.000000  110527.000000  110527.000000  110527.000000  \n",
              "mean        0.030400       0.022248       0.321026       9.532739  \n",
              "std         0.171686       0.161543       0.466873      15.027729  \n",
              "min         0.000000       0.000000       0.000000       0.000000  \n",
              "25%         0.000000       0.000000       0.000000       0.000000  \n",
              "50%         0.000000       0.000000       0.000000       3.000000  \n",
              "75%         0.000000       0.000000       1.000000      14.000000  \n",
              "max         1.000000       4.000000       1.000000     178.000000  "
            ]
          },
          "metadata": {},
          "execution_count": 17
        }
      ]
    },
    {
      "cell_type": "markdown",
      "source": [
        "**Show the Gender-wise distribution of patients who did not show up for the appointment**"
      ],
      "metadata": {
        "id": "j2bkXP0ZRhxS"
      }
    },
    {
      "cell_type": "code",
      "source": [
        "df.query('Presence==\"Absent\"')['Gender'].value_counts()\n"
      ],
      "metadata": {
        "colab": {
          "base_uri": "https://localhost:8080/"
        },
        "id": "7C3rR3SOu9CV",
        "outputId": "4dfdbff4-6933-47b4-fabc-b573599f77fb"
      },
      "execution_count": 18,
      "outputs": [
        {
          "output_type": "execute_result",
          "data": {
            "text/plain": [
              "F    14594\n",
              "M     7725\n",
              "Name: Gender, dtype: int64"
            ]
          },
          "metadata": {},
          "execution_count": 18
        }
      ]
    },
    {
      "cell_type": "markdown",
      "source": [
        "**Show the Gender-wise distribution of patients who were present as per the appointment**"
      ],
      "metadata": {
        "id": "c8ZvYx4ZR9G7"
      }
    },
    {
      "cell_type": "code",
      "source": [
        "df.query('Presence==\"Present\"')['Gender'].value_counts()"
      ],
      "metadata": {
        "colab": {
          "base_uri": "https://localhost:8080/"
        },
        "id": "yqrizxwoyLwb",
        "outputId": "f13ddaf8-02de-4761-c548-988031b2e947"
      },
      "execution_count": 19,
      "outputs": [
        {
          "output_type": "execute_result",
          "data": {
            "text/plain": [
              "F    57246\n",
              "M    30962\n",
              "Name: Gender, dtype: int64"
            ]
          },
          "metadata": {},
          "execution_count": 19
        }
      ]
    },
    {
      "cell_type": "markdown",
      "source": [
        "**Graphical representation of patients with respect to No-Show data**"
      ],
      "metadata": {
        "id": "4QaCBtklSTTQ"
      }
    },
    {
      "cell_type": "code",
      "source": [
        "label_Names = [\"Present\", \"Absent\"]\n",
        "data = [df.query('Presence == \"Present\"').count()[0], df.query('Presence == \"Absent\"').count()[0]]\n",
        "print('Total patients present :', data[0],'| Total patients absent :', data[1])\n",
        "explode = (0, 0.15)\n",
        "plt.axis('equal'); \n",
        "plt.pie(data,radius=1.5,shadow=True ,labels = label_Names,explode=explode, startangle=180,autopct='%0.2f%%',textprops = {\"fontsize\":15})\n",
        "plt.title(\"Percentage of patients who showed up and who didn't\",y=1.2);"
      ],
      "metadata": {
        "colab": {
          "base_uri": "https://localhost:8080/",
          "height": 349
        },
        "id": "GRTFquq6rwbl",
        "outputId": "85a1c0f1-ff05-4806-c8ae-1a85b570c158"
      },
      "execution_count": 20,
      "outputs": [
        {
          "output_type": "stream",
          "name": "stdout",
          "text": [
            "Total patients present : 88208 | Total patients absent : 22319\n"
          ]
        },
        {
          "output_type": "display_data",
          "data": {
            "image/png": "[encoded data removed]",
            "text/plain": [
              "<Figure size 432x288 with 1 Axes>"
            ]
          },
          "metadata": {}
        }
      ]
    },
    {
      "cell_type": "markdown",
      "source": [
        "**Find the average age of people who were present as well as those who were absent for the appointment**"
      ],
      "metadata": {
        "id": "wfJfSBdhUN-g"
      }
    },
    {
      "cell_type": "code",
      "source": [
        "from numpy.lib.function_base import average\n",
        "\n",
        "present = df['Presence'] == \"Present\"\n",
        "absent = df['Presence'] == \"Absent\"\n",
        "\n",
        "df_present_patients = df[present]\n",
        "df_absent_patients = df[absent]\n",
        "\n",
        "x1 = df_present_patients.Age.values\n",
        "x2 = df_absent_patients.Age.values\n",
        "\n",
        "print('Average age of people who showed up for the appointment :',round(average(x1)), 'Yrs')\n",
        "print('Average age of people who did not showed up for the appointment :',round(average(x2)), 'Yrs')"
      ],
      "metadata": {
        "colab": {
          "base_uri": "https://localhost:8080/"
        },
        "id": "aqfSQPffe7i5",
        "outputId": "058ea541-f85e-48fe-957d-9ec6cf577173"
      },
      "execution_count": 21,
      "outputs": [
        {
          "output_type": "stream",
          "name": "stdout",
          "text": [
            "Average age of people who showed up for the appointment : 38 Yrs\n",
            "Average age of people who did not showed up for the appointment : 34 Yrs\n"
          ]
        }
      ]
    },
    {
      "cell_type": "markdown",
      "source": [
        "**Show the distribution of Appointment by Patient's Age**"
      ],
      "metadata": {
        "id": "Ae9zt5s5WwYy"
      }
    },
    {
      "cell_type": "code",
      "source": [
        "plt.figure(figsize=(6,4))\n",
        "plt.title('Distribution of Appointment Count by Age')\n",
        "x = sns.histplot(data=df,x='Age')\n",
        "x.set_ylabel(\"Appointment Count\")"
      ],
      "metadata": {
        "colab": {
          "base_uri": "https://localhost:8080/",
          "height": 313
        },
        "id": "769hVYwHlb5o",
        "outputId": "361b8593-b697-4179-cf96-c772890bbaa7"
      },
      "execution_count": 22,
      "outputs": [
        {
          "output_type": "execute_result",
          "data": {
            "text/plain": [
              "Text(0, 0.5, 'Appointment Count')"
            ]
          },
          "metadata": {},
          "execution_count": 22
        },
        {
          "output_type": "display_data",
          "data": {
            "image/png": "[encoded data removed]",
            "text/plain": [
              "<Figure size 432x288 with 1 Axes>"
            ]
          },
          "metadata": {
            "needs_background": "light"
          }
        }
      ]
    },
    {
      "cell_type": "markdown",
      "source": [
        "**Show the No-Show data on top of Appointment count and Patient's Age**"
      ],
      "metadata": {
        "id": "0Cy40f5UXC12"
      }
    },
    {
      "cell_type": "code",
      "source": [
        "plt.figure(figsize=(14,6))\n",
        "y = sns.histplot(x=\"Age\", data=df, hue=\"Presence\",bins=100,alpha=0.5)\n",
        "y.set_title(\"Appointment No-Show Distribution by Age\")\n",
        "y.set_ylabel(\"Appointment Count\")"
      ],
      "metadata": {
        "colab": {
          "base_uri": "https://localhost:8080/",
          "height": 421
        },
        "id": "4wO2Z9v5l7ok",
        "outputId": "b38179b0-be58-41f5-d0e2-bd238851cf11"
      },
      "execution_count": 23,
      "outputs": [
        {
          "output_type": "execute_result",
          "data": {
            "text/plain": [
              "Text(0, 0.5, 'Appointment Count')"
            ]
          },
          "metadata": {},
          "execution_count": 23
        },
        {
          "output_type": "display_data",
          "data": {
            "image/png": "[encoded data removed]",
            "text/plain": [
              "<Figure size 1008x432 with 1 Axes>"
            ]
          },
          "metadata": {
            "needs_background": "light"
          }
        }
      ]
    },
    {
      "cell_type": "markdown",
      "source": [
        "**Calculate numeric dummy variable of 'Presence' variable for further analysis and plotting purpose**"
      ],
      "metadata": {
        "id": "lmzZ6oqnT4lO"
      }
    },
    {
      "cell_type": "code",
      "source": [
        "df['Presence_binary']=df['Presence'].apply(lambda x: 1 if x == \"Present\" else 0)\n",
        "df.head()"
      ],
      "metadata": {
        "colab": {
          "base_uri": "https://localhost:8080/",
          "height": 374
        },
        "id": "gr-VffKL2LKt",
        "outputId": "34dc91ff-a001-450a-fd58-326ad68ed066"
      },
      "execution_count": 24,
      "outputs": [
        {
          "output_type": "execute_result",
          "data": {
            "text/html": [
              "\n",
              "  <div id=\"df-68c7a61e-aec4-4356-956a-4a273615cf00\">\n",
              "    <div class=\"colab-df-container\">\n",
              "      <div>\n",
              "<style scoped>\n",
              "    .dataframe tbody tr th:only-of-type {\n",
              "        vertical-align: middle;\n",
              "    }\n",
              "\n",
              "    .dataframe tbody tr th {\n",
              "        vertical-align: top;\n",
              "    }\n",
              "\n",
              "    .dataframe thead th {\n",
              "        text-align: right;\n",
              "    }\n",
              "</style>\n",
              "<table border=\"1\" class=\"dataframe\">\n",
              "  <thead>\n",
              "    <tr style=\"text-align: right;\">\n",
              "      <th></th>\n",
              "      <th>Gender</th>\n",
              "      <th>ScheduledDay</th>\n",
              "      <th>AppointmentDay</th>\n",
              "      <th>Age</th>\n",
              "      <th>Neighbourhood</th>\n",
              "      <th>Scholarship</th>\n",
              "      <th>Hypertension</th>\n",
              "      <th>Diabetes</th>\n",
              "      <th>Alcoholism</th>\n",
              "      <th>Handicap</th>\n",
              "      <th>SMSReceived</th>\n",
              "      <th>No-show</th>\n",
              "      <th>Presence</th>\n",
              "      <th>Wait Time</th>\n",
              "      <th>WeekDay</th>\n",
              "      <th>Presence_binary</th>\n",
              "    </tr>\n",
              "  </thead>\n",
              "  <tbody>\n",
              "    <tr>\n",
              "      <th>0</th>\n",
              "      <td>F</td>\n",
              "      <td>2016-04-29 18:38:08+00:00</td>\n",
              "      <td>2016-04-29 18:38:08+00:00</td>\n",
              "      <td>62</td>\n",
              "      <td>JARDIM DA PENHA</td>\n",
              "      <td>0</td>\n",
              "      <td>1</td>\n",
              "      <td>0</td>\n",
              "      <td>0</td>\n",
              "      <td>0</td>\n",
              "      <td>0</td>\n",
              "      <td>No</td>\n",
              "      <td>Present</td>\n",
              "      <td>0</td>\n",
              "      <td>Friday</td>\n",
              "      <td>1</td>\n",
              "    </tr>\n",
              "    <tr>\n",
              "      <th>1</th>\n",
              "      <td>M</td>\n",
              "      <td>2016-04-29 16:08:27+00:00</td>\n",
              "      <td>2016-04-29 16:08:27+00:00</td>\n",
              "      <td>56</td>\n",
              "      <td>JARDIM DA PENHA</td>\n",
              "      <td>0</td>\n",
              "      <td>0</td>\n",
              "      <td>0</td>\n",
              "      <td>0</td>\n",
              "      <td>0</td>\n",
              "      <td>0</td>\n",
              "      <td>No</td>\n",
              "      <td>Present</td>\n",
              "      <td>0</td>\n",
              "      <td>Friday</td>\n",
              "      <td>1</td>\n",
              "    </tr>\n",
              "    <tr>\n",
              "      <th>2</th>\n",
              "      <td>F</td>\n",
              "      <td>2016-04-29 16:19:04+00:00</td>\n",
              "      <td>2016-04-29 16:19:04+00:00</td>\n",
              "      <td>62</td>\n",
              "      <td>MATA DA PRAIA</td>\n",
              "      <td>0</td>\n",
              "      <td>0</td>\n",
              "      <td>0</td>\n",
              "      <td>0</td>\n",
              "      <td>0</td>\n",
              "      <td>0</td>\n",
              "      <td>No</td>\n",
              "      <td>Present</td>\n",
              "      <td>0</td>\n",
              "      <td>Friday</td>\n",
              "      <td>1</td>\n",
              "    </tr>\n",
              "    <tr>\n",
              "      <th>3</th>\n",
              "      <td>F</td>\n",
              "      <td>2016-04-29 17:29:31+00:00</td>\n",
              "      <td>2016-04-29 17:29:31+00:00</td>\n",
              "      <td>8</td>\n",
              "      <td>PONTAL DE CAMBURI</td>\n",
              "      <td>0</td>\n",
              "      <td>0</td>\n",
              "      <td>0</td>\n",
              "      <td>0</td>\n",
              "      <td>0</td>\n",
              "      <td>0</td>\n",
              "      <td>No</td>\n",
              "      <td>Present</td>\n",
              "      <td>0</td>\n",
              "      <td>Friday</td>\n",
              "      <td>1</td>\n",
              "    </tr>\n",
              "    <tr>\n",
              "      <th>4</th>\n",
              "      <td>F</td>\n",
              "      <td>2016-04-29 16:07:23+00:00</td>\n",
              "      <td>2016-04-29 16:07:23+00:00</td>\n",
              "      <td>56</td>\n",
              "      <td>JARDIM DA PENHA</td>\n",
              "      <td>0</td>\n",
              "      <td>1</td>\n",
              "      <td>1</td>\n",
              "      <td>0</td>\n",
              "      <td>0</td>\n",
              "      <td>0</td>\n",
              "      <td>No</td>\n",
              "      <td>Present</td>\n",
              "      <td>0</td>\n",
              "      <td>Friday</td>\n",
              "      <td>1</td>\n",
              "    </tr>\n",
              "  </tbody>\n",
              "</table>\n",
              "</div>\n",
              "      <button class=\"colab-df-convert\" onclick=\"convertToInteractive('df-68c7a61e-aec4-4356-956a-4a273615cf00')\"\n",
              "              title=\"Convert this dataframe to an interactive table.\"\n",
              "              style=\"display:none;\">\n",
              "        \n",
              "  <svg xmlns=\"http://www.w3.org/2000/svg\" height=\"24px\"viewBox=\"0 0 24 24\"\n",
              "       width=\"24px\">\n",
              "    <path d=\"M0 0h24v24H0V0z\" fill=\"none\"/>\n",
              "    <path d=\"M18.56 5.44l.94 2.06.94-2.06 2.06-.94-2.06-.94-.94-2.06-.94 2.06-2.06.94zm-11 1L8.5 8.5l.94-2.06 2.06-.94-2.06-.94L8.5 2.5l-.94 2.06-2.06.94zm10 10l.94 2.06.94-2.06 2.06-.94-2.06-.94-.94-2.06-.94 2.06-2.06.94z\"/><path d=\"M17.41 7.96l-1.37-1.37c-.4-.4-.92-.59-1.43-.59-.52 0-1.04.2-1.43.59L10.3 9.45l-7.72 7.72c-.78.78-.78 2.05 0 2.83L4 21.41c.39.39.9.59 1.41.59.51 0 1.02-.2 1.41-.59l7.78-7.78 2.81-2.81c.8-.78.8-2.07 0-2.86zM5.41 20L4 18.59l7.72-7.72 1.47 1.35L5.41 20z\"/>\n",
              "  </svg>\n",
              "      </button>\n",
              "      \n",
              "  <style>\n",
              "    .colab-df-container {\n",
              "      display:flex;\n",
              "      flex-wrap:wrap;\n",
              "      gap: 12px;\n",
              "    }\n",
              "\n",
              "    .colab-df-convert {\n",
              "      background-color: #E8F0FE;\n",
              "      border: none;\n",
              "      border-radius: 50%;\n",
              "      cursor: pointer;\n",
              "      display: none;\n",
              "      fill: #1967D2;\n",
              "      height: 32px;\n",
              "      padding: 0 0 0 0;\n",
              "      width: 32px;\n",
              "    }\n",
              "\n",
              "    .colab-df-convert:hover {\n",
              "      background-color: #E2EBFA;\n",
              "      box-shadow: 0px 1px 2px rgba(60, 64, 67, 0.3), 0px 1px 3px 1px rgba(60, 64, 67, 0.15);\n",
              "      fill: #174EA6;\n",
              "    }\n",
              "\n",
              "    [theme=dark] .colab-df-convert {\n",
              "      background-color: #3B4455;\n",
              "      fill: #D2E3FC;\n",
              "    }\n",
              "\n",
              "    [theme=dark] .colab-df-convert:hover {\n",
              "      background-color: #434B5C;\n",
              "      box-shadow: 0px 1px 3px 1px rgba(0, 0, 0, 0.15);\n",
              "      filter: drop-shadow(0px 1px 2px rgba(0, 0, 0, 0.3));\n",
              "      fill: #FFFFFF;\n",
              "    }\n",
              "  </style>\n",
              "\n",
              "      <script>\n",
              "        const buttonEl =\n",
              "          document.querySelector('#df-68c7a61e-aec4-4356-956a-4a273615cf00 button.colab-df-convert');\n",
              "        buttonEl.style.display =\n",
              "          google.colab.kernel.accessAllowed ? 'block' : 'none';\n",
              "\n",
              "        async function convertToInteractive(key) {\n",
              "          const element = document.querySelector('#df-68c7a61e-aec4-4356-956a-4a273615cf00');\n",
              "          const dataTable =\n",
              "            await google.colab.kernel.invokeFunction('convertToInteractive',\n",
              "                                                     [key], {});\n",
              "          if (!dataTable) return;\n",
              "\n",
              "          const docLinkHtml = 'Like what you see? Visit the ' +\n",
              "            '<a target=\"_blank\" href=https://colab.research.google.com/notebooks/data_table.ipynb>data table notebook</a>'\n",
              "            + ' to learn more about interactive tables.';\n",
              "          element.innerHTML = '';\n",
              "          dataTable['output_type'] = 'display_data';\n",
              "          await google.colab.output.renderOutput(dataTable, element);\n",
              "          const docLink = document.createElement('div');\n",
              "          docLink.innerHTML = docLinkHtml;\n",
              "          element.appendChild(docLink);\n",
              "        }\n",
              "      </script>\n",
              "    </div>\n",
              "  </div>\n",
              "  "
            ],
            "text/plain": [
              "  Gender              ScheduledDay            AppointmentDay  Age  \\\n",
              "0      F 2016-04-29 18:38:08+00:00 2016-04-29 18:38:08+00:00   62   \n",
              "1      M 2016-04-29 16:08:27+00:00 2016-04-29 16:08:27+00:00   56   \n",
              "2      F 2016-04-29 16:19:04+00:00 2016-04-29 16:19:04+00:00   62   \n",
              "3      F 2016-04-29 17:29:31+00:00 2016-04-29 17:29:31+00:00    8   \n",
              "4      F 2016-04-29 16:07:23+00:00 2016-04-29 16:07:23+00:00   56   \n",
              "\n",
              "       Neighbourhood  Scholarship  Hypertension  Diabetes  Alcoholism  \\\n",
              "0    JARDIM DA PENHA            0             1         0           0   \n",
              "1    JARDIM DA PENHA            0             0         0           0   \n",
              "2      MATA DA PRAIA            0             0         0           0   \n",
              "3  PONTAL DE CAMBURI            0             0         0           0   \n",
              "4    JARDIM DA PENHA            0             1         1           0   \n",
              "\n",
              "   Handicap  SMSReceived No-show Presence  Wait Time WeekDay  Presence_binary  \n",
              "0         0            0      No  Present          0  Friday                1  \n",
              "1         0            0      No  Present          0  Friday                1  \n",
              "2         0            0      No  Present          0  Friday                1  \n",
              "3         0            0      No  Present          0  Friday                1  \n",
              "4         0            0      No  Present          0  Friday                1  "
            ]
          },
          "metadata": {},
          "execution_count": 24
        }
      ]
    },
    {
      "cell_type": "markdown",
      "source": [
        "**Find the number of people with No-Show having problem of Hypertension, Diabetes and age above average age of all the patients**"
      ],
      "metadata": {
        "id": "VQzUqWYlPpEr"
      }
    },
    {
      "cell_type": "code",
      "source": [
        "Q1= df.loc[(df['Presence_binary']==0) & (df['Hypertension']==1) & (df['Diabetes']==1) & (df['Age'] > average(df['Age']))]\n",
        "          \n",
        "print('Number of people with NO-SHOW having Diabetics, Hypertension and Age above average are:',len(Q1))\n",
        "#Q1"
      ],
      "metadata": {
        "colab": {
          "base_uri": "https://localhost:8080/"
        },
        "id": "zrz9sOQI2Tug",
        "outputId": "29068122-661b-4c59-94aa-179766c80442"
      },
      "execution_count": 33,
      "outputs": [
        {
          "output_type": "stream",
          "name": "stdout",
          "text": [
            "Number of people with NO-SHOW having Diabetics, Hypertension and Age above average are: 1110\n"
          ]
        }
      ]
    },
    {
      "cell_type": "markdown",
      "source": [
        "**Find the number of people with No Show as they did not receive SMS alert, wait time less is than average wait time of all patients and appointment is on weekend**"
      ],
      "metadata": {
        "id": "CvGpHnZQQO2Y"
      }
    },
    {
      "cell_type": "code",
      "source": [
        "Q2 = df.loc[(df['Presence_binary']==0) &(df['Wait Time'] < average(df['Wait Time'])) & (df['SMSReceived'] == 0) & (df['WeekDay'] == 'Saturday') |  (df['WeekDay'] == 'Sunday')]\n",
        "print('Number of people with NO-SHOW having less than average Wait Time, did not receive appointment SMS alert and appointment day on weekend are: ', len(Q2))\n",
        "#Q2"
      ],
      "metadata": {
        "colab": {
          "base_uri": "https://localhost:8080/"
        },
        "id": "K-luCGWG5p-r",
        "outputId": "f2399329-538b-45c0-fa20-559b1b2503d2"
      },
      "execution_count": 26,
      "outputs": [
        {
          "output_type": "stream",
          "name": "stdout",
          "text": [
            "Number of people with NO-SHOW having less than average Wait Time, did not receive appointment SMS alert and appointment day on weekend are:  6\n"
          ]
        }
      ]
    },
    {
      "cell_type": "markdown",
      "source": [
        "**Show the effect of Gender, Alcoholism, Diabetes and Hypertension on No-Show data**"
      ],
      "metadata": {
        "id": "6X4Y6cM1Va8s"
      }
    },
    {
      "cell_type": "code",
      "source": [
        "fig, (ax1, ax2, ax3, ax4) = plt.subplots(ncols=4, sharey=True)\n",
        "sns.countplot(x='Gender', data=df, hue='Presence_binary', ax=ax1, palette='rainbow')\n",
        "sns.countplot(x='Alcoholism', data=df, hue='Presence_binary', ax=ax2, palette='rainbow')\n",
        "sns.countplot(x='Diabetes', data=df, hue='Presence_binary', ax=ax3, palette='rainbow')\n",
        "sns.countplot(x='Hypertension', data=df, hue='Presence_binary', ax=ax4, palette='rainbow')\n",
        "fig.set_figwidth(14)\n",
        "fig.set_figheight(4)\n",
        "fig.suptitle(\"The effectiveness of Gender, Alcoholism, Diabetes and Hypertension on the patient's show\", fontsize=16);"
      ],
      "metadata": {
        "colab": {
          "base_uri": "https://localhost:8080/",
          "height": 308
        },
        "id": "QMVxXRUH20BL",
        "outputId": "80e48548-f825-4486-c313-343258b75924"
      },
      "execution_count": 29,
      "outputs": [
        {
          "output_type": "display_data",
          "data": {
            "image/png": "[encoded data removed]",
            "text/plain": [
              "<Figure size 1008x288 with 4 Axes>"
            ]
          },
          "metadata": {
            "needs_background": "light"
          }
        }
      ]
    },
    {
      "cell_type": "markdown",
      "source": [
        "**Defined a function to plot bar graph and use it to show the gender wise distribution of No-Show data**"
      ],
      "metadata": {
        "id": "Dh91g-tdV2zQ"
      }
    },
    {
      "cell_type": "code",
      "source": [
        "def barplot(df, xvar, normalize=True, rot=0, kind='bar', figsize=(10,5), log=False):\n",
        "    df['Presence'].groupby(df[xvar]).value_counts(normalize=normalize).unstack('Presence').plot(kind=kind, rot=rot, width=0.8, figsize=figsize, log=log, edgecolor='black')\n",
        "    # Add title and format it\n",
        "    plt.title(\"Show/No show for {}\".format(xvar).title())\n",
        "    # Add x label and format it\n",
        "    plt.xlabel(xvar.title())\n",
        "    # Add y label and format it\n",
        "    plt.ylabel(\"Frequency\".title())"
      ],
      "metadata": {
        "id": "WE9E8cDIItC-"
      },
      "execution_count": 42,
      "outputs": []
    },
    {
      "cell_type": "code",
      "source": [
        "barplot(df, 'Gender')"
      ],
      "metadata": {
        "colab": {
          "base_uri": "https://localhost:8080/",
          "height": 350
        },
        "id": "7WrcbAG7I6UI",
        "outputId": "7a791734-8e85-4051-b940-e85f341b5c5f"
      },
      "execution_count": 43,
      "outputs": [
        {
          "output_type": "display_data",
          "data": {
            "image/png": "[encoded data removed]",
            "text/plain": [
              "<Figure size 720x360 with 1 Axes>"
            ]
          },
          "metadata": {
            "needs_background": "light"
          }
        }
      ]
    },
    {
      "cell_type": "markdown",
      "source": [
        "**categorize the age column as child, teens, adults and senior to check the significance of no-show w.r.t each age bracket**"
      ],
      "metadata": {
        "id": "-iNnpRClu1TT"
      }
    },
    {
      "cell_type": "code",
      "source": [
        "bins = [0, 13, 19, 60, 116]\n",
        "labels = ['Child','Teen','Adult','Senior']\n",
        "df['Age_Group'] = pd.cut(df['Age'], bins=bins, labels=labels, include_lowest= True, right= False)\n",
        "\n",
        "barplot(df, 'Age_Group');"
      ],
      "metadata": {
        "colab": {
          "base_uri": "https://localhost:8080/",
          "height": 351
        },
        "id": "EPSBQwklpz_P",
        "outputId": "bb7b594c-36e9-4d6e-ce35-676dcf5b6ed8"
      },
      "execution_count": 44,
      "outputs": [
        {
          "output_type": "display_data",
          "data": {
            "image/png": "[encoded data removed]",
            "text/plain": [
              "<Figure size 720x360 with 1 Axes>"
            ]
          },
          "metadata": {
            "needs_background": "light"
          }
        }
      ]
    },
    {
      "cell_type": "markdown",
      "source": [
        "**Categorize the Wait Time column to check the significance of it on the no-show data**"
      ],
      "metadata": {
        "id": "8N2sK6U4u2My"
      }
    },
    {
      "cell_type": "code",
      "source": [
        "bins = [0,1,4,8,15,22,31,170]\n",
        "labels = ['Same day', '[1 - 3 days]', '[4 - 7 days]', '[8 - 14 days]', '[15 - 21. days]', '[22 - 30 days]', 'Month+']\n",
        "df['AwaitingDaysIntervals'] = pd.cut(df['Wait Time'], bins=bins, labels=labels, include_lowest=True, right=False)\n",
        "\n",
        "barplot(df, 'AwaitingDaysIntervals')"
      ],
      "metadata": {
        "colab": {
          "base_uri": "https://localhost:8080/",
          "height": 350
        },
        "id": "DzRx--LeqpX3",
        "outputId": "885f41d3-ea8f-4f3d-e252-0919c9ce267f"
      },
      "execution_count": 45,
      "outputs": [
        {
          "output_type": "display_data",
          "data": {
            "image/png": "[encoded data removed]",
            "text/plain": [
              "<Figure size 720x360 with 1 Axes>"
            ]
          },
          "metadata": {
            "needs_background": "light"
          }
        }
      ]
    }
  ]
}